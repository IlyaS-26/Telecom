{
  "nbformat": 4,
  "nbformat_minor": 0,
  "metadata": {
    "colab": {
      "provenance": [],
      "authorship_tag": "ABX9TyObTYiYM6GvLlu9s21wGHpd",
      "include_colab_link": true
    },
    "kernelspec": {
      "name": "python3",
      "display_name": "Python 3"
    },
    "language_info": {
      "name": "python"
    }
  },
  "cells": [
    {
      "cell_type": "markdown",
      "metadata": {
        "id": "view-in-github",
        "colab_type": "text"
      },
      "source": [
        "<a href=\"https://colab.research.google.com/github/IlyaS-26/Telecom/blob/main/lab_7.ipynb\" target=\"_parent\"><img src=\"https://colab.research.google.com/assets/colab-badge.svg\" alt=\"Open In Colab\"/></a>"
      ]
    },
    {
      "cell_type": "markdown",
      "source": [
        "Лабораторная работа №7\n",
        "Сергеев Илья, группа 3530901/90101"
      ],
      "metadata": {
        "id": "rYlmxweqyvdY"
      }
    },
    {
      "cell_type": "code",
      "source": [
        "import os\n",
        "\n",
        "if not os.path.exists('thinkdsp.py'):\n",
        "    !wget https://github.com/AllenDowney/ThinkDSP/raw/master/code/thinkdsp.py\n",
        "\n",
        "import numpy as np\n",
        "import matplotlib.pyplot as plt\n",
        "import pandas as pd\n",
        "\n",
        "PI2 = np.pi * 2"
      ],
      "metadata": {
        "id": "c3A8KZdizJhh"
      },
      "execution_count": null,
      "outputs": []
    },
    {
      "cell_type": "markdown",
      "source": [
        "Упражнение 7.1"
      ],
      "metadata": {
        "id": "YjJ39USzzaLc"
      }
    },
    {
      "cell_type": "markdown",
      "source": [
        "Прогнаны примеры из блокнота chap07.ipynb."
      ],
      "metadata": {
        "id": "pmEUCxtIzc65"
      }
    },
    {
      "cell_type": "markdown",
      "source": [
        "Упражнение 7.2"
      ],
      "metadata": {
        "id": "FnSraDvnzjMe"
      }
    },
    {
      "cell_type": "markdown",
      "source": [
        "Для реализации быстрого преобразования Фурье нужно разделить массив на чётные (e) и нечётные элементы (o); вычислить DFT e и o, делая рекурсивные вызовы; вычислить DFT для каждого значения n, используя Лемму Дэниеолсона-Ланцоша."
      ],
      "metadata": {
        "id": "pF07PByKzlxo"
      }
    },
    {
      "cell_type": "markdown",
      "source": [
        "Для теста начнем с небольшого реального сигнала и вычислим его БПФ:"
      ],
      "metadata": {
        "id": "2gIHD1exzvjF"
      }
    },
    {
      "cell_type": "code",
      "source": [
        "ys = [-0.5, 0.1, 0.7, -0.1]\n",
        "hs = np.fft.fft(ys)\n",
        "print(hs)"
      ],
      "metadata": {
        "colab": {
          "base_uri": "https://localhost:8080/"
        },
        "id": "90yNw7d9zw1a",
        "outputId": "d1278fb9-a1ba-4757-d9b4-68f83c85ed21"
      },
      "execution_count": 2,
      "outputs": [
        {
          "output_type": "stream",
          "name": "stdout",
          "text": [
            "[ 0.2+0.j  -1.2-0.2j  0.2+0.j  -1.2+0.2j]\n"
          ]
        }
      ]
    },
    {
      "cell_type": "markdown",
      "source": [
        "Реализация ДПФ из книги:"
      ],
      "metadata": {
        "id": "Buh3S9Bfzy7c"
      }
    },
    {
      "cell_type": "code",
      "source": [
        "def dft(ys):\n",
        "    N = len(ys)\n",
        "    ts = np.arange(N) / N\n",
        "    freqs = np.arange(N)\n",
        "    args = np.outer(ts, freqs)\n",
        "    M = np.exp(1j * PI2 * args)\n",
        "    amps = M.conj().transpose().dot(ys)\n",
        "    return amps"
      ],
      "metadata": {
        "id": "hvy80XuwzzVf"
      },
      "execution_count": 3,
      "outputs": []
    },
    {
      "cell_type": "markdown",
      "source": [
        "Можем подтвердить, что эта реализация дает тот же результат."
      ],
      "metadata": {
        "id": "vplJOF5Fz10z"
      }
    },
    {
      "cell_type": "code",
      "source": [
        "hs2 = dft(ys)\n",
        "np.sum(np.abs(hs - hs2))"
      ],
      "metadata": {
        "colab": {
          "base_uri": "https://localhost:8080/"
        },
        "id": "dlAaOABbz35w",
        "outputId": "ce885bb0-8c97-4ac8-89d6-603b24da2d5d"
      },
      "execution_count": 4,
      "outputs": [
        {
          "output_type": "execute_result",
          "data": {
            "text/plain": [
              "5.864775846765962e-16"
            ]
          },
          "metadata": {},
          "execution_count": 4
        }
      ]
    },
    {
      "cell_type": "markdown",
      "source": [
        "В качестве шага к созданию рекурсивного БПФ начнем с версии, которая разбивает входной массив и использует np.fft.fft для вычисления БПФ половин"
      ],
      "metadata": {
        "id": "I5MAcjTJz5x8"
      }
    },
    {
      "cell_type": "code",
      "source": [
        "def fft_norec(ys):\n",
        "    N = len(ys)\n",
        "    He = np.fft.fft(ys[::2])\n",
        "    Ho = np.fft.fft(ys[1::2])\n",
        "    \n",
        "    ns = np.arange(N)\n",
        "    W = np.exp(-1j * PI2 * ns / N)\n",
        "    \n",
        "    return np.tile(He, 2) + W * np.tile(Ho, 2)"
      ],
      "metadata": {
        "id": "0aHVRLWHz6T0"
      },
      "execution_count": 5,
      "outputs": []
    },
    {
      "cell_type": "markdown",
      "source": [
        "Получаем те же результаты:"
      ],
      "metadata": {
        "id": "waCoC-aqz8xl"
      }
    },
    {
      "cell_type": "code",
      "source": [
        "hs3 = fft_norec(ys)\n",
        "np.sum(np.abs(hs - hs3))"
      ],
      "metadata": {
        "colab": {
          "base_uri": "https://localhost:8080/"
        },
        "id": "0kIdhLq5z-RK",
        "outputId": "7d20df46-3fa5-4c9a-8dd4-33eb6aa0debc"
      },
      "execution_count": 6,
      "outputs": [
        {
          "output_type": "execute_result",
          "data": {
            "text/plain": [
              "0.0"
            ]
          },
          "metadata": {},
          "execution_count": 6
        }
      ]
    },
    {
      "cell_type": "markdown",
      "source": [
        "Теперь мы можем заменить np.fft.fft рекурсивными вызовами и добавить базовый вариант:"
      ],
      "metadata": {
        "id": "UDfHGR0P0A5t"
      }
    },
    {
      "cell_type": "code",
      "source": [
        "def fft(ys):\n",
        "    N = len(ys)\n",
        "    if N == 1:\n",
        "        return ys\n",
        "    \n",
        "    He = fft(ys[::2])\n",
        "    Ho = fft(ys[1::2])\n",
        "    \n",
        "    ns = np.arange(N)\n",
        "    W = np.exp(-1j * PI2 * ns / N)\n",
        "    \n",
        "    return np.tile(He, 2) + W * np.tile(Ho, 2)"
      ],
      "metadata": {
        "id": "UPg7CZ6z0CQR"
      },
      "execution_count": 7,
      "outputs": []
    },
    {
      "cell_type": "markdown",
      "source": [
        "Получаем те же результаты:"
      ],
      "metadata": {
        "id": "wAl69htT0Dzd"
      }
    },
    {
      "cell_type": "code",
      "source": [
        "hs4 = fft(ys)\n",
        "np.sum(np.abs(hs - hs4))"
      ],
      "metadata": {
        "colab": {
          "base_uri": "https://localhost:8080/"
        },
        "id": "yn8T1Fcn0Es7",
        "outputId": "304f9859-9b1a-4e5a-8c2c-510b0ac6ac45"
      },
      "execution_count": 8,
      "outputs": [
        {
          "output_type": "execute_result",
          "data": {
            "text/plain": [
              "1.6653345369377348e-16"
            ]
          },
          "metadata": {},
          "execution_count": 8
        }
      ]
    }
  ]
}